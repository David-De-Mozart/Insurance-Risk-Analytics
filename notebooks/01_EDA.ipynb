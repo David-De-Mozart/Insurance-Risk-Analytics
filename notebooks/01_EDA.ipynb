{
 "cells": [
  {
   "cell_type": "code",
   "execution_count": null,
   "id": "01c1f1b3",
   "metadata": {
    "vscode": {
     "languageId": "plaintext"
    }
   },
   "outputs": [],
   "source": [
    "# notebooks/01_EDA.ipynb\n",
    "\"\"\"\n",
    "Jupyter Notebook for Exploratory Data Analysis\n",
    "\"\"\"\n",
    "import sys\n",
    "sys.path.append('../src')\n",
    "import pandas as pd\n",
    "from data_preprocessing import load_and_preprocess, handle_missing\n",
    "from visualization import plot_monthly_trends, plot_province_risk, plot_vehicle_risk\n",
    "import seaborn as sns\n",
    "\n",
    "# Load and preprocess data\n",
    "df = load_and_preprocess('../data/insurance_data.csv')\n",
    "df = handle_missing(df)\n",
    "\n",
    "# Generate key visualizations\n",
    "plot_monthly_trends(df, '../reports/figures/monthly_trends.png')\n",
    "plot_province_risk(df, '../reports/figures/province_risk.png')\n",
    "plot_vehicle_risk(df, '../reports/figures/vehicle_risk.png')\n",
    "\n",
    "# Data quality report\n",
    "missing_report = df.isnull().sum().sort_values(ascending=False)\n",
    "print(\"Missing Values Report:\")\n",
    "print(missing_report[missing_report > 0])\n",
    "\n",
    "# Outlier detection\n",
    "sns.boxplot(data=df[['TotalPremium', 'TotalClaims']])\n",
    "plt.savefig('../reports/figures/outliers.png')"
   ]
  }
 ],
 "metadata": {
  "language_info": {
   "name": "python"
  }
 },
 "nbformat": 4,
 "nbformat_minor": 5
}
