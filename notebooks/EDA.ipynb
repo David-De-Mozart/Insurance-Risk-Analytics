{
 "cells": [
  {
   "cell_type": "code",
   "execution_count": null,
   "id": "88f44df1",
   "metadata": {
    "vscode": {
     "languageId": "plaintext"
    }
   },
   "outputs": [],
   "source": [
    "import pandas as pd\n",
    "import seaborn as sns\n",
    "import matplotlib.pyplot as plt\n",
    "\n",
    "# Load data\n",
    "df = pd.read_csv(\"data/insurance_data.csv\")\n",
    "df['TransactionMonth'] = pd.to_datetime(df['TransactionMonth'])\n",
    "\n",
    "# Key metrics\n",
    "df['LossRatio'] = df['TotalClaims'] / df['TotalPremium']\n",
    "\n",
    "# Core visualizations:\n",
    "# 1. Temporal trends\n",
    "plt.figure(figsize=(12,6))\n",
    "monthly = df.groupby('TransactionMonth').agg({'TotalPremium':'sum', 'TotalClaims':'sum'})\n",
    "monthly.plot(title='Monthly Premium vs Claims')\n",
    "plt.savefig('reports/monthly_trends.png')\n",
    "\n",
    "# 2. Loss Ratio by Province\n",
    "province_loss = df.groupby('Province')['LossRatio'].mean().sort_values()\n",
    "province_loss.plot(kind='bar', title='Average Loss Ratio by Province')\n",
    "plt.savefig('reports/province_loss.png')\n",
    "\n",
    "# 3. Vehicle Make Risk Analysis\n",
    "top_makes = df['Make'].value_counts()[:10].index\n",
    "make_risk = df[df['Make'].isin(top_makes)].groupby('Make')['LossRatio'].mean()\n",
    "make_risk.sort_values().plot(kind='barh', title='Loss Ratio by Vehicle Make')\n",
    "plt.savefig('reports/make_risk.png')"
   ]
  }
 ],
 "metadata": {
  "language_info": {
   "name": "python"
  }
 },
 "nbformat": 4,
 "nbformat_minor": 5
}
